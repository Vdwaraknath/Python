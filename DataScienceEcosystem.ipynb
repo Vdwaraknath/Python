{
 "cells": [
  {
   "cell_type": "markdown",
   "id": "ee093e25-a11b-4077-909e-e8c7071bdbc8",
   "metadata": {},
   "source": [
    "# Data Science Tools and Ecosystem\n"
   ]
  },
  {
   "cell_type": "markdown",
   "id": "0491dcf4-a59c-4223-83e2-22a35142eb6b",
   "metadata": {},
   "source": [
    "## Introduction\n",
    "In this notebook, Data Science Tools and Ecosystem are summarized."
   ]
  },
  {
   "cell_type": "markdown",
   "id": "086189d2-22c6-4b4e-be0e-1b24b24a48a7",
   "metadata": {},
   "source": [
    "## Some of the popular languages that Data Scientists use are:\n",
    "1.Python\n",
    "2.R\n",
    "3.Julia"
   ]
  },
  {
   "cell_type": "markdown",
   "id": "deb4d381-602e-4066-8008-1566ce41644a",
   "metadata": {},
   "source": [
    "# Some of the commonly used libraries used by Data Scientists include:\n",
    "1.Pandas\n",
    "2.Numpy\n",
    "3.Matplotlib"
   ]
  },
  {
   "cell_type": "markdown",
   "id": "e9952af4-3d34-4844-892c-c81fc62b1912",
   "metadata": {},
   "source": [
    "## Data Science Tools\n",
    "\n",
    "| Tool            | Description                     |\n",
    "|-----------------|---------------------------------|\n",
    "| Jupyter Notebook| Interactive computing          |\n",
    "| TensorFlow      | Machine learning framework      |\n",
    "| scikit-learn    | Machine learning library        |"
   ]
  },
  {
   "cell_type": "markdown",
   "id": "8c60e481-a953-4fe5-ace1-da8fd07c9bad",
   "metadata": {},
   "source": [
    "## Below are a few examples of evaluating arithmetic expressions in Python\n",
    "Explore basic arithmetic operations in the following examples."
   ]
  },
  {
   "cell_type": "markdown",
   "id": "c1564a49-8709-4093-811f-f88a92011ee4",
   "metadata": {},
   "source": [
    "# (3*4)+5\n",
    "This a simple arithmetic expression to mutiply then add integers\n",
    "17"
   ]
  },
  {
   "cell_type": "markdown",
   "id": "52f8f506-8322-4fb7-8559-722b7dbb2fda",
   "metadata": {},
   "source": [
    "## Convert minutes to hours\n",
    "minutes = 200\n",
    "hours = minutes / 60"
   ]
  },
  {
   "cell_type": "markdown",
   "id": "55779ba8-abe0-465d-868c-2423e8265576",
   "metadata": {},
   "source": [
    "### Objectives\n",
    "1. Understand data science languages.\n",
    "2. Explore data science libraries.\n",
    "3. Familiarize with key data science tools."
   ]
  },
  {
   "cell_type": "markdown",
   "id": "ed0ddb09-9757-44a0-844d-25eccad7fdb3",
   "metadata": {
    "tags": []
   },
   "source": [
    "## Author\n",
    "Kadambi Naga Akhila Vaishnavi "
   ]
  },
  {
   "cell_type": "code",
   "execution_count": null,
   "id": "94dbddd0-0e57-4fdd-9584-6e043a74a665",
   "metadata": {},
   "outputs": [],
   "source": []
  }
 ],
 "metadata": {
  "kernelspec": {
   "display_name": "Python 3 (ipykernel)",
   "language": "python",
   "name": "python3"
  },
  "language_info": {
   "codemirror_mode": {
    "name": "ipython",
    "version": 3
   },
   "file_extension": ".py",
   "mimetype": "text/x-python",
   "name": "python",
   "nbconvert_exporter": "python",
   "pygments_lexer": "ipython3",
   "version": "3.11.5"
  }
 },
 "nbformat": 4,
 "nbformat_minor": 5
}
